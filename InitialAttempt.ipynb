{
 "cells": [
  {
   "cell_type": "code",
   "execution_count": 1,
   "id": "c7e63a23",
   "metadata": {},
   "outputs": [
    {
     "name": "stdout",
     "output_type": "stream",
     "text": [
      "1\n",
      "2\n",
      "3\n"
     ]
    }
   ],
   "source": [
    "import cv2\n",
    "import mediapipe as md\n",
    "\n",
    "md_drawing = md.solutions.drawing_utils\n",
    "md_pose = md.solutions.pose\n",
    "md_drawing_styles= md.solutions.drawing_styles\n",
    "\n",
    "count=0\n",
    "position=None\n",
    "cap=cv2.VideoCapture (0)\n",
    "with md_pose.Pose(\n",
    "    min_detection_confidence=0.7,\n",
    "    min_tracking_confidence=0.7) as pose:\n",
    "    while cap.isOpened ():\n",
    "        success,image=cap.read()\n",
    "        if not success :\n",
    "            print (\"empty camera\")\n",
    "            break\n",
    "        image=cv2.cvtColor(cv2.flip(image,1),cv2.COLOR_BGR2RGB)\n",
    "        result=pose.process (image)\n",
    "        \n",
    "        imlist=[]\n",
    "        if result.pose_landmarks:\n",
    "            md_drawing.draw_landmarks(\n",
    "                image,result.pose_landmarks,md_pose.POSE_CONNECTIONS)\n",
    "            for id, im in enumerate (result.pose_landmarks.landmark):\n",
    "                h,w,_=image.shape\n",
    "                X,Y=int(im.x*w),int(im.y*h)\n",
    "                imlist.append([id,X,Y])\n",
    "            if len(imlist)!=0:\n",
    "                if (imlist[12][2] and imlist[11][2] >= imlist [14][2] and imlist[13][2]):\n",
    "                    position= \"down\"\n",
    "                if (imlist[12][2] and imlist[11][2] <= imlist[14][2] and imlist[13][2]) and position ==\"down\":\n",
    "                    position=\"up\"\n",
    "                    count+=1\n",
    "                    #print(\"ONE DONE!!!!\")\n",
    "                    print (count)\n",
    "                \n",
    "            cv2.imshow(\"Push-up counter\", cv2.flip (image, 1))\n",
    "            key=cv2.waitKey(1)\n",
    "            if key==ord('q'):\n",
    "                break\n",
    "cap.release()"
   ]
  },
  {
   "cell_type": "code",
   "execution_count": 1,
   "id": "0104de6b",
   "metadata": {},
   "outputs": [],
   "source": [
    "import cv2\n",
    "import mediapipe as md\n",
    "\n",
    "md_drawing = md.solutions.drawing_utils\n",
    "md_pose = md.solutions.pose\n",
    "md_drawing_styles= md.solutions.drawing_styles\n",
    "\n",
    "count=0\n",
    "position=None\n",
    "cap=cv2.VideoCapture (0)\n",
    "with md_pose.Pose(\n",
    "    min_detection_confidence=0.7,\n",
    "    min_tracking_confidence=0.7) as pose:\n",
    "    while cap.isOpened ():\n",
    "        success,image=cap.read()\n",
    "        if not success :\n",
    "            print (\"empty camera\")\n",
    "            break\n",
    "        image=cv2.cvtColor(cv2.flip(image,1),cv2.COLOR_BGR2RGB)\n",
    "        result=pose.process (image)\n",
    "        \n",
    "        imlist=[]\n",
    "        if result.pose_landmarks:\n",
    "            md_drawing.draw_landmarks(\n",
    "                image,result.pose_landmarks,md_pose.POSE_CONNECTIONS)\n",
    "            for id, im in enumerate (result.pose_landmarks.landmark):\n",
    "                h,w,_=image.shape\n",
    "                X,Y=int(im.x*w),int(im.y*h)\n",
    "                imlist.append([id,X,Y])\n",
    "            if len(imlist)!=0:\n",
    "                if ((imlist[12][2] - imlist[14][2])>=15 and (imlist[11][2] - imlist[13][2])>=15):\n",
    "                    position = \"down\"\n",
    "                if ((imlist[12][2] - imlist[14][2])<=5 and (imlist[11][2] - imlist[13][2])<=5) and position == \"down\":\n",
    "                    position = \"up\"\n",
    "                    count +=1 \n",
    "                    print(count)\n",
    "                \n",
    "            cv2.imshow(\"Push-up counter\", cv2.flip (image, 1))\n",
    "            key=cv2.waitKey(1)\n",
    "            if key==ord('q'):\n",
    "                break\n",
    "cap.release()"
   ]
  },
  {
   "cell_type": "code",
   "execution_count": null,
   "id": "11552d2a",
   "metadata": {},
   "outputs": [],
   "source": []
  }
 ],
 "metadata": {
  "kernelspec": {
   "display_name": "Python 3 (ipykernel)",
   "language": "python",
   "name": "python3"
  },
  "language_info": {
   "codemirror_mode": {
    "name": "ipython",
    "version": 3
   },
   "file_extension": ".py",
   "mimetype": "text/x-python",
   "name": "python",
   "nbconvert_exporter": "python",
   "pygments_lexer": "ipython3",
   "version": "3.10.4"
  }
 },
 "nbformat": 4,
 "nbformat_minor": 5
}
